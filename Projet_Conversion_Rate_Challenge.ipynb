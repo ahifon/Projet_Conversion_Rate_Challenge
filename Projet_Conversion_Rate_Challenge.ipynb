{
  "nbformat": 4,
  "nbformat_minor": 0,
  "metadata": {
    "colab": {
      "name": "Projet_Conversion_Rate_Challenge github",
      "provenance": []
    },
    "language_info": {
      "codemirror_mode": {
        "name": "ipython",
        "version": 3
      },
      "file_extension": ".py",
      "mimetype": "text/x-python",
      "name": "python",
      "nbconvert_exporter": "python",
      "pygments_lexer": "ipython3",
      "version": "3.6.8"
    },
    "kernelspec": {
      "display_name": "Python 3",
      "language": "python",
      "name": "python3"
    }
  },
  "cells": [
    {
      "cell_type": "markdown",
      "metadata": {
        "id": "abpYy089XrxW",
        "colab_type": "text"
      },
      "source": [
        "## Introduction\n",
        "###Challenge Goal \n",
        "Optimizing conversion rates is one of the most important tasks of a data scientist.\n",
        "\n",
        "This is why, we will build a model that will predict the conversion rate of customers on a website and will make recommendations to our marketing team to be able to increase our revenues.\n",
        "\n",
        "###Description of the challenge\n",
        "We have collected data from users of the website of a public limited company. Your project consists of:\n",
        "Create a conversion rate prediction model (will the user convert or not).\n",
        "Find recommendations for the Product & Marketing team to improve this conversion rate.\n",
        "\n",
        "### About the data:\n",
        "\n",
        "\n",
        "## Table of Contents\n",
        "\n",
        "I. [Overview of the dataset and simple-data-visualization](#cln)\n",
        "\n",
        "II. [Data Cleaning and Modeling](#cln)\n",
        "\n",
        "III. [Conclusion](#ccn)"
      ]
    },
    {
      "cell_type": "code",
      "metadata": {
        "id": "rHVbAoK-BdD_",
        "colab_type": "code",
        "colab": {
          "base_uri": "https://localhost:8080/",
          "height": 17
        },
        "outputId": "cdc5edd9-456d-4786-d9e7-951f3826e587"
      },
      "source": [
        "# importing packages\n",
        "%matplotlib inline\n",
        "import pandas as pd\n",
        "pd.options.display.max_rows = 1000 #handy for showing truncated results\n",
        "import matplotlib.pyplot as plt\n",
        "import numpy as np\n",
        "import seaborn as sns\n",
        "import statsmodels.api as sm\n",
        "from sklearn.model_selection import train_test_split\n",
        "from sklearn.linear_model import LogisticRegression\n",
        "from sklearn.ensemble import RandomForestClassifier\n",
        "from sklearn.ensemble import GradientBoostingClassifier\n",
        "from sklearn import metrics\n",
        "import plotly.offline as py\n",
        "py.init_notebook_mode(connected=True)\n",
        "import plotly.graph_objs as go\n",
        "import plotly.tools as tls\n",
        "import warnings"
      ],
      "execution_count": 12,
      "outputs": [
        {
          "output_type": "display_data",
          "data": {
            "text/html": [
              "        <script type=\"text/javascript\">\n",
              "        window.PlotlyConfig = {MathJaxConfig: 'local'};\n",
              "        if (window.MathJax) {MathJax.Hub.Config({SVG: {font: \"STIX-Web\"}});}\n",
              "        if (typeof require !== 'undefined') {\n",
              "        require.undef(\"plotly\");\n",
              "        requirejs.config({\n",
              "            paths: {\n",
              "                'plotly': ['https://cdn.plot.ly/plotly-latest.min']\n",
              "            }\n",
              "        });\n",
              "        require(['plotly'], function(Plotly) {\n",
              "            window._Plotly = Plotly;\n",
              "        });\n",
              "        }\n",
              "        </script>\n",
              "        "
            ]
          },
          "metadata": {
            "tags": []
          }
        }
      ]
    },
    {
      "cell_type": "code",
      "metadata": {
        "id": "UaVd6yMUAQNC",
        "colab_type": "code",
        "outputId": "3e5373a1-34e7-40b9-e7c8-bec6b81a3768",
        "colab": {
          "base_uri": "https://localhost:8080/",
          "height": 119
        }
      },
      "source": [
        "import pandas\n",
        "pandas.set_option('display.max_columns', 10)\n",
        "pandas.set_option('display.width', 350)\n",
        "  \n",
        "#read from google drive\n",
        "data=pandas.read_csv(\"https://drive.google.com/uc?export=download&id=1KvxyyF3QCtvIx0J7_8iWDEtFQpLgd0Yq\")\n",
        "  \n",
        "print(data.head())"
      ],
      "execution_count": 1,
      "outputs": [
        {
          "output_type": "stream",
          "text": [
            "  country  age  new_user source  total_pages_visited  converted\n",
            "0      UK   25         1    Ads                    1          0\n",
            "1      US   23         1    Seo                    5          0\n",
            "2      US   28         1    Seo                    4          0\n",
            "3   China   39         1    Seo                    5          0\n",
            "4      US   30         1    Seo                    6          0\n"
          ],
          "name": "stdout"
        }
      ]
    },
    {
      "cell_type": "markdown",
      "metadata": {
        "id": "RPPcXsEM-UWN",
        "colab_type": "text"
      },
      "source": [
        "<a id=\"cln\"> I.Simple-data-visualization-with-plotly.ipynb</a>\n",
        "\n",
        "\n",
        "\n"
      ]
    },
    {
      "cell_type": "markdown",
      "metadata": {
        "id": "DRq3TjlCAQNL",
        "colab_type": "text"
      },
      "source": [
        "\n",
        "####Overview of the dataset\n",
        "\n",
        " "
      ]
    },
    {
      "cell_type": "code",
      "metadata": {
        "id": "Ik86489GAQNN",
        "colab_type": "code",
        "outputId": "59e04eb9-8fdf-4902-b27a-f30c67a9761b",
        "colab": {
          "base_uri": "https://localhost:8080/",
          "height": 170
        }
      },
      "source": [
        "print(data.describe())"
      ],
      "execution_count": 4,
      "outputs": [
        {
          "output_type": "stream",
          "text": [
            "                 age       new_user  total_pages_visited      converted\n",
            "count  316200.000000  316200.000000        316200.000000  316200.000000\n",
            "mean       30.569858       0.685465             4.872966       0.032258\n",
            "std         8.271802       0.464331             3.341104       0.176685\n",
            "min        17.000000       0.000000             1.000000       0.000000\n",
            "25%        24.000000       0.000000             2.000000       0.000000\n",
            "50%        30.000000       1.000000             4.000000       0.000000\n",
            "75%        36.000000       1.000000             7.000000       0.000000\n",
            "max       123.000000       1.000000            29.000000       1.000000\n"
          ],
          "name": "stdout"
        }
      ]
    },
    {
      "cell_type": "code",
      "metadata": {
        "id": "vQFTLc1fAQNS",
        "colab_type": "code",
        "outputId": "a6f873f9-2c8b-4827-d787-149e3d0c39c0",
        "colab": {
          "base_uri": "https://localhost:8080/",
          "height": 119
        }
      },
      "source": [
        "print(data.groupby(['country']).size())"
      ],
      "execution_count": 5,
      "outputs": [
        {
          "output_type": "stream",
          "text": [
            "country\n",
            "China       76602\n",
            "Germany     13056\n",
            "UK          48450\n",
            "US         178092\n",
            "dtype: int64\n"
          ],
          "name": "stdout"
        }
      ]
    },
    {
      "cell_type": "code",
      "metadata": {
        "id": "QOll_NNxAQNX",
        "colab_type": "code",
        "outputId": "e5820a09-21f2-4337-c6b6-e4607b32bda6",
        "colab": {
          "base_uri": "https://localhost:8080/",
          "height": 102
        }
      },
      "source": [
        "print(data.groupby(['source']).size())"
      ],
      "execution_count": 6,
      "outputs": [
        {
          "output_type": "stream",
          "text": [
            "source\n",
            "Ads        88740\n",
            "Direct     72420\n",
            "Seo       155040\n",
            "dtype: int64\n"
          ],
          "name": "stdout"
        }
      ]
    },
    {
      "cell_type": "code",
      "metadata": {
        "id": "Un4MK3KfAQNd",
        "colab_type": "code",
        "outputId": "1a0aa137-d511-4d85-cb87-a12793856e1e",
        "colab": {
          "base_uri": "https://localhost:8080/",
          "height": 54
        }
      },
      "source": [
        "print(sorted(data['age'].unique(), reverse=True))"
      ],
      "execution_count": 7,
      "outputs": [
        {
          "output_type": "stream",
          "text": [
            "[123, 111, 79, 77, 73, 72, 70, 69, 68, 67, 66, 65, 64, 63, 62, 61, 60, 59, 58, 57, 56, 55, 54, 53, 52, 51, 50, 49, 48, 47, 46, 45, 44, 43, 42, 41, 40, 39, 38, 37, 36, 35, 34, 33, 32, 31, 30, 29, 28, 27, 26, 25, 24, 23, 22, 21, 20, 19, 18, 17]\n"
          ],
          "name": "stdout"
        }
      ]
    },
    {
      "cell_type": "code",
      "metadata": {
        "id": "a5DRkxLNAQNj",
        "colab_type": "code",
        "outputId": "fd76c768-5bbe-4644-d4fa-5c45a2515213",
        "colab": {
          "base_uri": "https://localhost:8080/",
          "height": 68
        }
      },
      "source": [
        "print(data[data['age']>110])"
      ],
      "execution_count": 8,
      "outputs": [
        {
          "output_type": "stream",
          "text": [
            "        country  age  new_user source  total_pages_visited  converted\n",
            "90928   Germany  123         0    Seo                   15          1\n",
            "295581       UK  111         0    Ads                   10          1\n"
          ],
          "name": "stdout"
        }
      ]
    },
    {
      "cell_type": "markdown",
      "metadata": {
        "id": "8YuJssMcAQNn",
        "colab_type": "text"
      },
      "source": [
        "####It is just 2 users! In this case, we can remove them, nothing will change."
      ]
    },
    {
      "cell_type": "code",
      "metadata": {
        "id": "VulTuMNdAQNo",
        "colab_type": "code",
        "colab": {}
      },
      "source": [
        "data = data[data['age']<110]"
      ],
      "execution_count": 0,
      "outputs": []
    },
    {
      "cell_type": "markdown",
      "metadata": {
        "id": "Z0feCAWzAQNs",
        "colab_type": "text"
      },
      "source": [
        "#### Now, let’s quickly investigate the variables and how their distribution differs for the two classes. This will help us understand whether there is any information in our data in the first place and get a sense of the data."
      ]
    },
    {
      "cell_type": "code",
      "metadata": {
        "id": "VDGPGmzLAQNu",
        "colab_type": "code",
        "outputId": "d6d406a7-d11b-4a99-e803-e24d6d55e3f5",
        "colab": {
          "base_uri": "https://localhost:8080/",
          "height": 386
        }
      },
      "source": [
        "import seaborn as sns \n",
        "sns.catplot(x=\"country\", y=\"converted\", data=data, kind=\"bar\")"
      ],
      "execution_count": 10,
      "outputs": [
        {
          "output_type": "execute_result",
          "data": {
            "text/plain": [
              "<seaborn.axisgrid.FacetGrid at 0x7ff723cf7240>"
            ]
          },
          "metadata": {
            "tags": []
          },
          "execution_count": 10
        },
        {
          "output_type": "display_data",
          "data": {
            "image/png": "[encoded data removed]",
            "text/plain": [
              "<Figure size 360x360 with 1 Axes>"
            ]
          },
          "metadata": {
            "tags": []
          }
        }
      ]
    },
    {
      "cell_type": "markdown",
      "metadata": {
        "id": "MRwfigInAQNz",
        "colab_type": "text"
      },
      "source": [
        "####Here it clearly looks like Chinese convert at a much lower rate than other countries! "
      ]
    },
    {
      "cell_type": "code",
      "metadata": {
        "id": "s2nyQf5bAQN0",
        "colab_type": "code",
        "outputId": "507077fa-37cc-427d-b99c-0646ffeaa227",
        "colab": {
          "base_uri": "https://localhost:8080/",
          "height": 280
        }
      },
      "source": [
        "data.groupby(['total_pages_visited'])['converted'].mean().plot()\n",
        "plt.show()"
      ],
      "execution_count": 13,
      "outputs": [
        {
          "output_type": "display_data",
          "data": {
            "image/png": "[encoded data removed]",
            "text/plain": [
              "<Figure size 432x288 with 1 Axes>"
            ]
          },
          "metadata": {
            "tags": []
          }
        }
      ]
    },
    {
      "cell_type": "markdown",
      "metadata": {
        "id": "GVt3rnDzAQN6",
        "colab_type": "text"
      },
      "source": [
        "Definitely spending more time on the site implies higher probability of conversion!"
      ]
    },
    {
      "cell_type": "markdown",
      "metadata": {
        "id": "aJxG52MMAQN6",
        "colab_type": "text"
      },
      "source": [
        "<a id=\"cln\">II.Data cleaning and Modeling</a>\n",
        "\n",
        "\n",
        "\n",
        "\n"
      ]
    },
    {
      "cell_type": "markdown",
      "metadata": {
        "id": "mczfjgaSAQN7",
        "colab_type": "text"
      },
      "source": [
        "#### Now let's build a model to predict the conversion rate.\n",
        "I will choose a random forest to predict the conversion rate. I chose a random forest because: it generally takes very little time to optimize it (its default parameters are often close to being the best) and it is strong with outliers, irrelevant variables, variables continuous and discreet. I will use the random forest to predict conversion, then I will use its graphs of partial dependence and variable importance to obtain information. Also, I'm going to build a simple tree to find the most obvious user segments.\n",
        "Firstly, let’s create dummy variables from the categorical ones."
      ]
    },
    {
      "cell_type": "code",
      "metadata": {
        "id": "UUyZnOFKAQN-",
        "colab_type": "code",
        "colab": {}
      },
      "source": [
        "#dummy variables for the categorical ones\n",
        "data_dummy = pandas.get_dummies(data, drop_first=True)"
      ],
      "execution_count": 0,
      "outputs": []
    },
    {
      "cell_type": "markdown",
      "metadata": {
        "id": "SJ9B74ZqAQOB",
        "colab_type": "text"
      },
      "source": [
        "I would cross-validate). Then, I build the forest with standard values ​​for the 3 important parameters (100 trees, trees as large as possible, 3 random variables selected at each fractionation)."
      ]
    },
    {
      "cell_type": "code",
      "metadata": {
        "id": "oQgJ4RUMAQOC",
        "colab_type": "code",
        "colab": {}
      },
      "source": [
        "import numpy as np\n",
        "from sklearn.ensemble import RandomForestClassifier"
      ],
      "execution_count": 0,
      "outputs": []
    },
    {
      "cell_type": "code",
      "metadata": {
        "id": "1TEgYMgfAQOI",
        "colab_type": "code",
        "outputId": "ecc8ff36-727a-427f-bcbf-5a12d8c45cf3",
        "colab": {
          "base_uri": "https://localhost:8080/",
          "height": 102
        }
      },
      "source": [
        "from sklearn.metrics import confusion_matrix\n",
        "from sklearn.model_selection import train_test_split\n",
        "np.random.seed(4684)\n",
        "  \n",
        "#split into train and test to avoid overfitting\n",
        "train, test = train_test_split(data_dummy, test_size = 0.34)\n",
        "  \n",
        "#build the model\n",
        "rf = RandomForestClassifier(n_estimators=100, max_features=3, oob_score=True)\n",
        "rf.fit(train.drop('converted', axis=1), train['converted'])\n",
        "  \n",
        "#let's print OOB accuracy and confusion matrix\n",
        "print(\n",
        "\"OOB accuracy is\", \n",
        "rf.oob_score_, \n",
        "\"\\n\", \n",
        "\"OOB Confusion Matrix\", \n",
        "\"\\n\",\n",
        "pandas.DataFrame(confusion_matrix(train['converted'], rf.oob_decision_function_[:,1].round(), labels=[0, 1]))\n",
        ")"
      ],
      "execution_count": 16,
      "outputs": [
        {
          "output_type": "stream",
          "text": [
            "OOB accuracy is 0.9838851885571901 \n",
            " OOB Confusion Matrix \n",
            "         0     1\n",
            "0  200872  1102\n",
            "1    2261  4455\n"
          ],
          "name": "stdout"
        }
      ]
    },
    {
      "cell_type": "code",
      "metadata": {
        "id": "uyanDw-PAQOQ",
        "colab_type": "code",
        "outputId": "c3e2397c-ad7a-48b2-857e-b989230601f6",
        "colab": {
          "base_uri": "https://localhost:8080/",
          "height": 102
        }
      },
      "source": [
        "#and let's print test accuracy and confusion matrix\n",
        "print(\n",
        "\"Test accuracy is\", rf.score(test.drop('converted', axis=1),test['converted']), \n",
        "\"\\n\", \n",
        "\"Test Set Confusion Matrix\", \n",
        "\"\\n\",\n",
        "pandas.DataFrame(confusion_matrix(test['converted'], rf.predict(test.drop('converted', axis=1)), labels=[0, 1]))\n",
        ")"
      ],
      "execution_count": 17,
      "outputs": [
        {
          "output_type": "stream",
          "text": [
            "Test accuracy is 0.9847360196450496 \n",
            " Test Set Confusion Matrix \n",
            "         0     1\n",
            "0  103483   543\n",
            "1    1098  2384\n"
          ],
          "name": "stdout"
        }
      ]
    },
    {
      "cell_type": "markdown",
      "metadata": {
        "id": "zvAb31MGAQOW",
        "colab_type": "text"
      },
      "source": [
        " Thus, the OOB error and the test error are quite similar, ~ 1.5%. We are convinced that we do not adapt too much.\n",
        "\n",
        "The error is quite small. However, we started with an accuracy of 97% (this is the case if we classify everything as \"not converted\"). So 98.5% is good, but nothing shocking. Indeed, ~ 30% of conversions are planned as \"no\n",
        "Let's start by checking the importance of the variables."
      ]
    },
    {
      "cell_type": "code",
      "metadata": {
        "id": "j24JgJmyAQOX",
        "colab_type": "code",
        "outputId": "756c6318-dd40-47b0-c0b2-b2e8cf9dfa4f",
        "colab": {
          "base_uri": "https://localhost:8080/",
          "height": 265
        }
      },
      "source": [
        "feat_importances = pandas.Series(rf.feature_importances_, index=train.drop('converted', axis=1).columns)\n",
        "feat_importances.sort_values().plot(kind='barh')\n",
        "plt.show()"
      ],
      "execution_count": 18,
      "outputs": [
        {
          "output_type": "display_data",
          "data": {
            "image/png": "[encoded data removed]",
            "text/plain": [
              "<Figure size 432x288 with 1 Axes>"
            ]
          },
          "metadata": {
            "tags": []
          }
        }
      ]
    },
    {
      "cell_type": "markdown",
      "metadata": {
        "id": "utJGrr0YAQOf",
        "colab_type": "text"
      },
      "source": [
        "####The total number of pages visited is by far the largest. People visit many pages because they already want to buy. Let's reconstruct the RF without this variable."
      ]
    },
    {
      "cell_type": "code",
      "metadata": {
        "id": "Fh-TW6bHAQOh",
        "colab_type": "code",
        "outputId": "f660584d-f21a-4046-a836-b3fadc4363a7",
        "colab": {
          "base_uri": "https://localhost:8080/",
          "height": 102
        }
      },
      "source": [
        "#build the model without total_pages_visited\n",
        "rf = RandomForestClassifier(n_estimators=100, max_features=3, oob_score=True, class_weight={0:1, 1:10})\n",
        "rf.fit(train.drop(['converted', 'total_pages_visited'], axis=1), train['converted'])\n",
        "  \n",
        "#let's print OOB accuracy and confusion matrix\n",
        "print(\n",
        "\"OOB accuracy is\", \n",
        "rf.oob_score_, \n",
        "\"\\n\", \n",
        "\"OOB Confusion Matrix\", \n",
        "\"\\n\",\n",
        "pandas.DataFrame(confusion_matrix(train['converted'], rf.oob_decision_function_[:,1].round(), labels=[0, 1]))\n",
        ")"
      ],
      "execution_count": 20,
      "outputs": [
        {
          "output_type": "stream",
          "text": [
            "OOB accuracy is 0.8903253629785807 \n",
            " OOB Confusion Matrix \n",
            "         0      1\n",
            "0  182889  19085\n",
            "1    3803   2913\n"
          ],
          "name": "stdout"
        }
      ]
    },
    {
      "cell_type": "code",
      "metadata": {
        "id": "mcye6xlTAQOr",
        "colab_type": "code",
        "outputId": "7d36c6aa-36fc-4963-bfa6-adff78a9e305",
        "colab": {
          "base_uri": "https://localhost:8080/",
          "height": 102
        }
      },
      "source": [
        "#and let's print test accuracy and confusion matrix\n",
        "print(\n",
        "\"Test accuracy is\", rf.score(test.drop(['converted', 'total_pages_visited'], axis=1),test['converted']), \n",
        "\"\\n\", \n",
        "\"Test Set Confusion Matrix\", \n",
        "\"\\n\",\n",
        "pandas.DataFrame(confusion_matrix(test['converted'], rf.predict(test.drop(['converted', 'total_pages_visited'], axis=1)), labels=[0, 1]))\n",
        ")"
      ],
      "execution_count": 21,
      "outputs": [
        {
          "output_type": "stream",
          "text": [
            "Test accuracy is 0.8917940990437921 \n",
            " Test Set Confusion Matrix \n",
            "        0     1\n",
            "0  94358  9668\n",
            "1   1965  1517\n"
          ],
          "name": "stdout"
        }
      ]
    },
    {
      "cell_type": "markdown",
      "metadata": {
        "id": "Nw2zcyQSAQOy",
        "colab_type": "text"
      },
      "source": [
        "####The precision has dropped but the model is still good enough to give us an overview.Recheck the importance of the variables:"
      ]
    },
    {
      "cell_type": "code",
      "metadata": {
        "id": "NCjqC8ocAQO0",
        "colab_type": "code",
        "outputId": "bde1ff82-a0cf-4d7d-f3aa-109655b84302",
        "colab": {
          "base_uri": "https://localhost:8080/",
          "height": 265
        }
      },
      "source": [
        "feat_importances = pandas.Series(rf.feature_importances_, index=train.drop(['converted', 'total_pages_visited'], axis=1).columns)\n",
        "feat_importances.sort_values().plot(kind='barh')\n",
        "plt.show()"
      ],
      "execution_count": 23,
      "outputs": [
        {
          "output_type": "display_data",
          "data": {
            "image/png": "[encoded data removed]",
            "text/plain": [
              "<Figure size 432x288 with 1 Axes>"
            ]
          },
          "metadata": {
            "tags": []
          }
        }
      ]
    },
    {
      "cell_type": "markdown",
      "metadata": {
        "id": "9AqXxPe0AQO6",
        "colab_type": "text"
      },
      "source": [
        "####The New User variable is the most important, even more important than age.\n",
        "Let's check the partial dependency diagrams for the 4 variables."
      ]
    },
    {
      "cell_type": "code",
      "metadata": {
        "id": "e1ye6VZUAQO7",
        "colab_type": "code",
        "outputId": "fc5e22a3-454c-4e80-fc54-5197496df231",
        "colab": {
          "base_uri": "https://localhost:8080/",
          "height": 788
        }
      },
      "source": [
        "!pip install pdpbox\n",
        "from pdpbox import pdp, info_plots\n",
        "  \n",
        "#country\n",
        "pdp_iso = pdp.pdp_isolate( model=rf, \n",
        "                          dataset=train.drop(['converted', 'total_pages_visited'], axis=1),      \n",
        "                          model_features=list(train.drop(['converted', 'total_pages_visited'], axis=1)), \n",
        "                          feature=['country_Germany', 'country_UK', 'country_US'], \n",
        "                          num_grid_points=50)\n",
        "pdp_dataset = pandas.Series(pdp_iso.pdp, index=pdp_iso.display_columns)\n",
        "pdp_dataset.sort_values(ascending=False).plot(kind='bar', title='Country')\n",
        "plt.show()\n"
      ],
      "execution_count": 24,
      "outputs": [
        {
          "output_type": "stream",
          "text": [
            "Collecting pdpbox\n",
            "\u001b[?25l  Downloading https://files.pythonhosted.org/packages/87/23/ac7da5ba1c6c03a87c412e7e7b6e91a10d6ecf4474906c3e736f93940d49/PDPbox-0.2.0.tar.gz (57.7MB)\n",
            "\u001b[K     |████████████████████████████████| 57.7MB 73kB/s \n",
            "\u001b[?25hRequirement already satisfied: pandas in /usr/local/lib/python3.6/dist-packages (from pdpbox) (0.25.3)\n",
            "Requirement already satisfied: numpy in /usr/local/lib/python3.6/dist-packages (from pdpbox) (1.18.2)\n",
            "Requirement already satisfied: scipy in /usr/local/lib/python3.6/dist-packages (from pdpbox) (1.4.1)\n",
            "Requirement already satisfied: matplotlib>=2.1.2 in /usr/local/lib/python3.6/dist-packages (from pdpbox) (3.2.1)\n",
            "Requirement already satisfied: joblib in /usr/local/lib/python3.6/dist-packages (from pdpbox) (0.14.1)\n",
            "Requirement already satisfied: psutil in /usr/local/lib/python3.6/dist-packages (from pdpbox) (5.4.8)\n",
            "Requirement already satisfied: scikit-learn in /usr/local/lib/python3.6/dist-packages (from pdpbox) (0.22.2.post1)\n",
            "Requirement already satisfied: python-dateutil>=2.6.1 in /usr/local/lib/python3.6/dist-packages (from pandas->pdpbox) (2.8.1)\n",
            "Requirement already satisfied: pytz>=2017.2 in /usr/local/lib/python3.6/dist-packages (from pandas->pdpbox) (2018.9)\n",
            "Requirement already satisfied: kiwisolver>=1.0.1 in /usr/local/lib/python3.6/dist-packages (from matplotlib>=2.1.2->pdpbox) (1.1.0)\n",
            "Requirement already satisfied: cycler>=0.10 in /usr/local/lib/python3.6/dist-packages (from matplotlib>=2.1.2->pdpbox) (0.10.0)\n",
            "Requirement already satisfied: pyparsing!=2.0.4,!=2.1.2,!=2.1.6,>=2.0.1 in /usr/local/lib/python3.6/dist-packages (from matplotlib>=2.1.2->pdpbox) (2.4.6)\n",
            "Requirement already satisfied: six>=1.5 in /usr/local/lib/python3.6/dist-packages (from python-dateutil>=2.6.1->pandas->pdpbox) (1.12.0)\n",
            "Requirement already satisfied: setuptools in /usr/local/lib/python3.6/dist-packages (from kiwisolver>=1.0.1->matplotlib>=2.1.2->pdpbox) (46.0.0)\n",
            "Building wheels for collected packages: pdpbox\n",
            "  Building wheel for pdpbox (setup.py) ... \u001b[?25l\u001b[?25hdone\n",
            "  Created wheel for pdpbox: filename=PDPbox-0.2.0-cp36-none-any.whl size=57690722 sha256=f7f2fb66496daabede9c1e7eb9013ab11eaeec66f7ab79207ec5c76b74d1c5a0\n",
            "  Stored in directory: /root/.cache/pip/wheels/7d/08/51/63fd122b04a2c87d780464eeffb94867c75bd96a64d500a3fe\n",
            "Successfully built pdpbox\n",
            "Installing collected packages: pdpbox\n",
            "Successfully installed pdpbox-0.2.0\n"
          ],
          "name": "stdout"
        },
        {
          "output_type": "display_data",
          "data": {
            "image/png": "[encoded data removed]",
            "text/plain": [
              "<Figure size 432x288 with 1 Axes>"
            ]
          },
          "metadata": {
            "tags": []
          }
        }
      ]
    },
    {
      "cell_type": "code",
      "metadata": {
        "id": "iwXbf-QCAQPA",
        "colab_type": "code",
        "outputId": "f59a90c2-b593-411b-cfd0-6963d99a3449",
        "colab": {
          "base_uri": "https://localhost:8080/",
          "height": 339
        }
      },
      "source": [
        "#source\n",
        "pdp_iso = pdp.pdp_isolate( model=rf, \n",
        "                          dataset=train.drop(['converted', 'total_pages_visited'], axis=1),      \n",
        "                          model_features=list(train.drop(['converted', 'total_pages_visited'], axis=1)), \n",
        "                          feature=['source_Direct', 'source_Seo'], \n",
        "                          num_grid_points=50)\n",
        "pdp_dataset = pandas.Series(pdp_iso.pdp, index=pdp_iso.display_columns)\n",
        "pdp_dataset.sort_values(ascending=False).plot(kind='bar', title='Source')\n",
        "plt.show()"
      ],
      "execution_count": 25,
      "outputs": [
        {
          "output_type": "display_data",
          "data": {
            "image/png": "[encoded data removed]",
            "text/plain": [
              "<Figure size 432x288 with 1 Axes>"
            ]
          },
          "metadata": {
            "tags": []
          }
        }
      ]
    },
    {
      "cell_type": "code",
      "metadata": {
        "id": "KiHh8HLcAQPE",
        "colab_type": "code",
        "outputId": "637021fd-0f16-45af-adc0-e1cead50a072",
        "colab": {
          "base_uri": "https://localhost:8080/",
          "height": 330
        }
      },
      "source": [
        "#new user\n",
        "pdp_iso = pdp.pdp_isolate( model=rf, \n",
        "                          dataset=train.drop(['converted', 'total_pages_visited'], axis=1),      \n",
        "                          model_features=list(train.drop(['converted', 'total_pages_visited'], axis=1)), \n",
        "                          feature='new_user', \n",
        "                          num_grid_points=50)\n",
        "pdp_dataset = pandas.Series(pdp_iso.pdp, index=pdp_iso.display_columns)\n",
        "pdp_dataset.sort_values(ascending=False).plot(kind='bar', title='New User')\n",
        "plt.show()\n"
      ],
      "execution_count": 26,
      "outputs": [
        {
          "output_type": "display_data",
          "data": {
            "image/png": "[encoded data removed]",
            "text/plain": [
              "<Figure size 432x288 with 1 Axes>"
            ]
          },
          "metadata": {
            "tags": []
          }
        }
      ]
    },
    {
      "cell_type": "code",
      "metadata": {
        "id": "VF0XlbjTAQPJ",
        "colab_type": "code",
        "outputId": "01680c14-dceb-415c-ac48-fabd4be29c2c",
        "colab": {
          "base_uri": "https://localhost:8080/",
          "height": 281
        }
      },
      "source": [
        "#age\n",
        "pdp_iso = pdp.pdp_isolate( model=rf, \n",
        "                          dataset=train.drop(['converted', 'total_pages_visited'], axis=1),      \n",
        "                          model_features=list(train.drop(['converted', 'total_pages_visited'], axis=1)), \n",
        "                          feature='age', \n",
        "                          num_grid_points=50)\n",
        "pdp_dataset = pandas.Series(pdp_iso.pdp, index=pdp_iso.feature_grids)\n",
        "pdp_dataset.plot(title='Age')\n",
        "plt.show()"
      ],
      "execution_count": 27,
      "outputs": [
        {
          "output_type": "display_data",
          "data": {
            "image/png": "[encoded data removed]",
            "text/plain": [
              "<Figure size 432x288 with 1 Axes>"
            ]
          },
          "metadata": {
            "tags": []
          }
        }
      ]
    },
    {
      "cell_type": "markdown",
      "metadata": {
        "id": "WQUtVjMnAQPN",
        "colab_type": "text"
      },
      "source": [
        "####Users with an old account are much better than new users.\n",
        "Germany, the United Kingdom and the United States are similar, with Germany being the best. Most importantly, they all have very very high values. As usual, we have to read this from the baseline, which is China. So this means that not being from China and one of these 3 countries greatly increases the likelihood of conversion. In other words, China is very bad at conversion.\n",
        "The site works very well for young people and gets worse for the elderly.\n",
        "The source is less relevant\n",
        "Now let's build a simple decision tree and check the 2 or 3 most important segments."
      ]
    },
    {
      "cell_type": "code",
      "metadata": {
        "id": "NCmkp8wUAQPO",
        "colab_type": "code",
        "outputId": "ff0219c5-7e9e-4b39-b6a2-c81fee3a3cae",
        "colab": {
          "base_uri": "https://localhost:8080/",
          "height": 392
        }
      },
      "source": [
        "import graphviz\n",
        "from sklearn.tree import DecisionTreeClassifier\n",
        "from sklearn.tree import export_graphviz\n",
        "\n",
        "tree = DecisionTreeClassifier( max_depth=2,class_weight={0:1, 1:10}, min_impurity_decrease = 0.001)\n",
        "tree.fit(train.drop(['converted', 'total_pages_visited'], axis=1), train['converted'])\n",
        "  \n",
        "#visualize it\n",
        "dot_data = export_graphviz(tree, out_file=None, feature_names=train.drop(['converted', 'total_pages_visited'], axis=1).columns, proportion=True, rotate=True)\n",
        "graph = graphviz.Source(dot_data)\n",
        "\n",
        "graph"
      ],
      "execution_count": 28,
      "outputs": [
        {
          "output_type": "execute_result",
          "data": {
            "text/plain": [
              "<graphviz.files.Source at 0x7ff7037d0d30>"
            ],
            "image/svg+xml": "<?xml version=\"1.0\" encoding=\"UTF-8\" standalone=\"no\"?>\n<!DOCTYPE svg PUBLIC \"-//W3C//DTD SVG 1.1//EN\"\n \"http://www.w3.org/Graphics/SVG/1.1/DTD/svg11.dtd\">\n<!-- Generated by graphviz version 2.40.1 (20161225.0304)\n -->\n<!-- Title: Tree Pages: 1 -->\n<svg width=\"506pt\" height=\"278pt\"\n viewBox=\"0.00 0.00 506.00 278.00\" xmlns=\"http://www.w3.org/2000/svg\" xmlns:xlink=\"http://www.w3.org/1999/xlink\">\n<g id=\"graph0\" class=\"graph\" transform=\"scale(1 1) rotate(0) translate(4 274)\">\n<title>Tree</title>\n<polygon fill=\"#ffffff\" stroke=\"transparent\" points=\"-4,4 -4,-274 502,-274 502,4 -4,4\"/>\n<!-- 0 -->\n<g id=\"node1\" class=\"node\">\n<title>0</title>\n<polygon fill=\"none\" stroke=\"#000000\" points=\"132,-170.5 0,-170.5 0,-102.5 132,-102.5 132,-170.5\"/>\n<text text-anchor=\"middle\" x=\"66\" y=\"-155.3\" font-family=\"Times,serif\" font-size=\"14.00\" fill=\"#000000\">new_user &lt;= 0.5</text>\n<text text-anchor=\"middle\" x=\"66\" y=\"-140.3\" font-family=\"Times,serif\" font-size=\"14.00\" fill=\"#000000\">gini = 0.375</text>\n<text text-anchor=\"middle\" x=\"66\" y=\"-125.3\" font-family=\"Times,serif\" font-size=\"14.00\" fill=\"#000000\">samples = 100.0%</text>\n<text text-anchor=\"middle\" x=\"66\" y=\"-110.3\" font-family=\"Times,serif\" font-size=\"14.00\" fill=\"#000000\">value = [0.75, 0.25]</text>\n</g>\n<!-- 1 -->\n<g id=\"node2\" class=\"node\">\n<title>1</title>\n<polygon fill=\"none\" stroke=\"#000000\" points=\"315,-213.5 168,-213.5 168,-145.5 315,-145.5 315,-213.5\"/>\n<text text-anchor=\"middle\" x=\"241.5\" y=\"-198.3\" font-family=\"Times,serif\" font-size=\"14.00\" fill=\"#000000\">age &lt;= 31.5</text>\n<text text-anchor=\"middle\" x=\"241.5\" y=\"-183.3\" font-family=\"Times,serif\" font-size=\"14.00\" fill=\"#000000\">gini = 0.492</text>\n<text text-anchor=\"middle\" x=\"241.5\" y=\"-168.3\" font-family=\"Times,serif\" font-size=\"14.00\" fill=\"#000000\">samples = 31.5%</text>\n<text text-anchor=\"middle\" x=\"241.5\" y=\"-153.3\" font-family=\"Times,serif\" font-size=\"14.00\" fill=\"#000000\">value = [0.564, 0.436]</text>\n</g>\n<!-- 0&#45;&gt;1 -->\n<g id=\"edge1\" class=\"edge\">\n<title>0&#45;&gt;1</title>\n<path fill=\"none\" stroke=\"#000000\" d=\"M132.349,-152.7565C140.6513,-154.7906 149.2258,-156.8915 157.7499,-158.98\"/>\n<polygon fill=\"#000000\" stroke=\"#000000\" points=\"157.1682,-162.441 167.7139,-161.4214 158.8341,-155.6421 157.1682,-162.441\"/>\n<text text-anchor=\"middle\" x=\"146.3372\" y=\"-170.6843\" font-family=\"Times,serif\" font-size=\"14.00\" fill=\"#000000\">True</text>\n</g>\n<!-- 4 -->\n<g id=\"node5\" class=\"node\">\n<title>4</title>\n<polygon fill=\"none\" stroke=\"#000000\" points=\"315,-127.5 168,-127.5 168,-59.5 315,-59.5 315,-127.5\"/>\n<text text-anchor=\"middle\" x=\"241.5\" y=\"-112.3\" font-family=\"Times,serif\" font-size=\"14.00\" fill=\"#000000\">age &lt;= 23.5</text>\n<text text-anchor=\"middle\" x=\"241.5\" y=\"-97.3\" font-family=\"Times,serif\" font-size=\"14.00\" fill=\"#000000\">gini = 0.218</text>\n<text text-anchor=\"middle\" x=\"241.5\" y=\"-82.3\" font-family=\"Times,serif\" font-size=\"14.00\" fill=\"#000000\">samples = 68.5%</text>\n<text text-anchor=\"middle\" x=\"241.5\" y=\"-67.3\" font-family=\"Times,serif\" font-size=\"14.00\" fill=\"#000000\">value = [0.876, 0.124]</text>\n</g>\n<!-- 0&#45;&gt;4 -->\n<g id=\"edge4\" class=\"edge\">\n<title>0&#45;&gt;4</title>\n<path fill=\"none\" stroke=\"#000000\" d=\"M132.349,-120.2435C140.6513,-118.2094 149.2258,-116.1085 157.7499,-114.02\"/>\n<polygon fill=\"#000000\" stroke=\"#000000\" points=\"158.8341,-117.3579 167.7139,-111.5786 157.1682,-110.559 158.8341,-117.3579\"/>\n<text text-anchor=\"middle\" x=\"146.3372\" y=\"-94.9157\" font-family=\"Times,serif\" font-size=\"14.00\" fill=\"#000000\">False</text>\n</g>\n<!-- 2 -->\n<g id=\"node3\" class=\"node\">\n<title>2</title>\n<polygon fill=\"none\" stroke=\"#000000\" points=\"498,-270 351,-270 351,-217 498,-217 498,-270\"/>\n<text text-anchor=\"middle\" x=\"424.5\" y=\"-254.8\" font-family=\"Times,serif\" font-size=\"14.00\" fill=\"#000000\">gini = 0.499</text>\n<text text-anchor=\"middle\" x=\"424.5\" y=\"-239.8\" font-family=\"Times,serif\" font-size=\"14.00\" fill=\"#000000\">samples = 18.3%</text>\n<text text-anchor=\"middle\" x=\"424.5\" y=\"-224.8\" font-family=\"Times,serif\" font-size=\"14.00\" fill=\"#000000\">value = [0.483, 0.517]</text>\n</g>\n<!-- 1&#45;&gt;2 -->\n<g id=\"edge2\" class=\"edge\">\n<title>1&#45;&gt;2</title>\n<path fill=\"none\" stroke=\"#000000\" d=\"M315.1421,-205.2546C323.657,-208.2325 332.3867,-211.2855 341.0204,-214.3049\"/>\n<polygon fill=\"#000000\" stroke=\"#000000\" points=\"340.1159,-217.6964 350.7107,-217.6939 342.4268,-211.0889 340.1159,-217.6964\"/>\n</g>\n<!-- 3 -->\n<g id=\"node4\" class=\"node\">\n<title>3</title>\n<polygon fill=\"none\" stroke=\"#000000\" points=\"498,-199 351,-199 351,-146 498,-146 498,-199\"/>\n<text text-anchor=\"middle\" x=\"424.5\" y=\"-183.8\" font-family=\"Times,serif\" font-size=\"14.00\" fill=\"#000000\">gini = 0.402</text>\n<text text-anchor=\"middle\" x=\"424.5\" y=\"-168.8\" font-family=\"Times,serif\" font-size=\"14.00\" fill=\"#000000\">samples = 13.2%</text>\n<text text-anchor=\"middle\" x=\"424.5\" y=\"-153.8\" font-family=\"Times,serif\" font-size=\"14.00\" fill=\"#000000\">value = [0.722, 0.278]</text>\n</g>\n<!-- 1&#45;&gt;3 -->\n<g id=\"edge3\" class=\"edge\">\n<title>1&#45;&gt;3</title>\n<path fill=\"none\" stroke=\"#000000\" d=\"M315.1421,-176.6831C323.4739,-176.3644 332.0113,-176.0378 340.4632,-175.7145\"/>\n<polygon fill=\"#000000\" stroke=\"#000000\" points=\"340.8519,-179.2023 350.7107,-175.3225 340.5842,-172.2074 340.8519,-179.2023\"/>\n</g>\n<!-- 5 -->\n<g id=\"node6\" class=\"node\">\n<title>5</title>\n<polygon fill=\"none\" stroke=\"#000000\" points=\"497.5,-124 351.5,-124 351.5,-71 497.5,-71 497.5,-124\"/>\n<text text-anchor=\"middle\" x=\"424.5\" y=\"-108.8\" font-family=\"Times,serif\" font-size=\"14.00\" fill=\"#000000\">gini = 0.332</text>\n<text text-anchor=\"middle\" x=\"424.5\" y=\"-93.8\" font-family=\"Times,serif\" font-size=\"14.00\" fill=\"#000000\">samples = 15.1%</text>\n<text text-anchor=\"middle\" x=\"424.5\" y=\"-78.8\" font-family=\"Times,serif\" font-size=\"14.00\" fill=\"#000000\">value = [0.789, 0.211]</text>\n</g>\n<!-- 4&#45;&gt;5 -->\n<g id=\"edge5\" class=\"edge\">\n<title>4&#45;&gt;5</title>\n<path fill=\"none\" stroke=\"#000000\" d=\"M315.1421,-95.1097C323.7083,-95.2969 332.4917,-95.4889 341.1761,-95.6787\"/>\n<polygon fill=\"#000000\" stroke=\"#000000\" points=\"341.2323,-99.1807 351.3065,-95.9001 341.3854,-92.1824 341.2323,-99.1807\"/>\n</g>\n<!-- 6 -->\n<g id=\"node7\" class=\"node\">\n<title>6</title>\n<polygon fill=\"none\" stroke=\"#000000\" points=\"498,-53 351,-53 351,0 498,0 498,-53\"/>\n<text text-anchor=\"middle\" x=\"424.5\" y=\"-37.8\" font-family=\"Times,serif\" font-size=\"14.00\" fill=\"#000000\">gini = 0.175</text>\n<text text-anchor=\"middle\" x=\"424.5\" y=\"-22.8\" font-family=\"Times,serif\" font-size=\"14.00\" fill=\"#000000\">samples = 53.4%</text>\n<text text-anchor=\"middle\" x=\"424.5\" y=\"-7.8\" font-family=\"Times,serif\" font-size=\"14.00\" fill=\"#000000\">value = [0.903, 0.097]</text>\n</g>\n<!-- 4&#45;&gt;6 -->\n<g id=\"edge6\" class=\"edge\">\n<title>4&#45;&gt;6</title>\n<path fill=\"none\" stroke=\"#000000\" d=\"M315.1421,-66.5381C324.135,-63.2457 333.3674,-59.8655 342.4733,-56.5316\"/>\n<polygon fill=\"#000000\" stroke=\"#000000\" points=\"343.7144,-59.8045 351.9015,-53.0798 341.3077,-53.2312 343.7144,-59.8045\"/>\n</g>\n</g>\n</svg>\n"
          },
          "metadata": {
            "tags": []
          },
          "execution_count": 28
        }
      ]
    },
    {
      "cell_type": "markdown",
      "metadata": {
        "id": "fs9YpYNYAQPU",
        "colab_type": "text"
      },
      "source": [
        "A simple small tree confirms exactly the random forest findings."
      ]
    },
    {
      "cell_type": "markdown",
      "metadata": {
        "id": "AlivinpbAQPV",
        "colab_type": "text"
      },
      "source": [
        "<a id=\"cln\">CONCLUSION</a>\n"
      ]
    },
    {
      "cell_type": "markdown",
      "metadata": {
        "id": "knNw1DBjAQPW",
        "colab_type": "text"
      },
      "source": [
        "1. The site is working very well for young users. Definitely let’s tell marketing to advertise and use channels which are more likely to reach young people.\n",
        "\n",
        "2. The site is working very well for Germany in terms of conversion. But the summary showed that there are few Germans coming to the site: way less than UK, despite a larger population. Again, marketing should get more Germans. Big opportunity.\n",
        "\n",
        "3. Users with old accounts do much better. Targeted emails with offers to bring them back to the site could be a good idea to try.\n",
        "\n",
        "4. Maybe go through the UI and figure out why older users perform so poorly? From ~30 y/o conversion clearly starts dropping. A good actionable metric here is conversion rate for people >=30 yr old. Building a team whose goal is to increase that number would be interesting.\n",
        "\n",
        "5. Something is wrong with the Chinese version of the site. It is either poorly translated, doesn’t fit the local culture, or maybe some payment issue. Given how many users are based in China, fixing this should be a top priority. Huge opportunity. \n",
        "\n",
        "\n",
        "As you can see, product ideas usually end up being about:\n",
        "\n",
        "Identify segments that perform well, but have low absolute count (like Germany). Then tell marketing to get more of those people\n",
        "\n",
        "Tell product to fix the experience for the bad performing ones\n",
        "\n",
        "Bad performing segments with high absolute count (like China) usually provide the biggest opportunities for massive gains, if you can guess why that’s happening and then build a test to validate your hypothesis\n",
        "\n",
        "\n"
      ]
    }
  ]
}